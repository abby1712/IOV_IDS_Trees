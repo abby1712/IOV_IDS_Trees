{
  "nbformat": 4,
  "nbformat_minor": 0,
  "metadata": {
    "colab": {
      "provenance": []
    },
    "kernelspec": {
      "name": "python3",
      "display_name": "Python 3"
    },
    "language_info": {
      "name": "python"
    }
  },
  "cells": [
    {
      "cell_type": "markdown",
      "source": [
        "# **Project Code: For Different Tree Boosts**\n",
        "\n",
        "\n",
        "\n"
      ],
      "metadata": {
        "id": "9S4T8We6SBVp"
      }
    },
    {
      "cell_type": "markdown",
      "source": [
        "## Comparative analysis of different tree Boosts for IDS on Intrusion Detection"
      ],
      "metadata": {
        "id": "6zDJCq7cRbyU"
      }
    },
    {
      "cell_type": "markdown",
      "source": [
        "## Tree Boosts to Be Compared:\n",
        "\n",
        "# 1.   XGB Boost\n",
        "# 2.   LGB Boost\n",
        "# 3.   Cat Boost\n",
        "# 4.   Extra Trees\n",
        "# 5.   Random forests \n",
        "# 6.   Decision trees\n",
        "\n"
      ],
      "metadata": {
        "id": "qG2QrwxZRlxX"
      }
    },
    {
      "cell_type": "markdown",
      "source": [
        "# Import Libraries\n",
        "\n",
        "1.   Pandas\n",
        "2.   Numpy\n",
        "3.   matplotlib\n",
        "4.   Libraries for different Tree Models ( LightGBM,xgBoost,CatBoost)\n",
        "5.   other libraries as needed.\n",
        "\n"
      ],
      "metadata": {
        "id": "zySqjxk_SNfm"
      }
    },
    {
      "cell_type": "code",
      "source": [
        "import warnings\n",
        "warnings.filterwarnings(\"ignore\")"
      ],
      "metadata": {
        "id": "B2TxlV2tRtIu"
      },
      "execution_count": null,
      "outputs": []
    },
    {
      "cell_type": "code",
      "source": [
        "import pandas as pd\n",
        "import numpy as np\n",
        "import matplotlib.pyplot as plt\n",
        "import seaborn as sns\n",
        "from sklearn.model_selection import train_test_split\n",
        "from sklearn.metrics import classification_report,confusion_matrix,accuracy_score, precision_score, recall_score, f1_score\n",
        "import lightgbm as lgb\n",
        "!pip3 install catboost\n",
        "import catboost as cbt\n",
        "import xgboost as xgb\n",
        "import time\n",
        "!pip3 install river\n",
        "from river import stream\n",
        "from statistics import mode"
      ],
      "metadata": {
        "colab": {
          "base_uri": "https://localhost:8080/",
          "height": 905
        },
        "id": "lY8LP6kFSP_E",
        "outputId": "096af02b-8796-4160-a527-05eee64c26a9"
      },
      "execution_count": null,
      "outputs": [
        {
          "output_type": "stream",
          "name": "stdout",
          "text": [
            "Looking in indexes: https://pypi.org/simple, https://us-python.pkg.dev/colab-wheels/public/simple/\n",
            "Collecting catboost\n",
            "  Downloading catboost-1.1.1-cp38-none-manylinux1_x86_64.whl (76.6 MB)\n",
            "\u001b[K     |████████████████████████████████| 76.6 MB 1.2 MB/s \n",
            "\u001b[?25hRequirement already satisfied: scipy in /usr/local/lib/python3.8/dist-packages (from catboost) (1.7.3)\n",
            "Requirement already satisfied: matplotlib in /usr/local/lib/python3.8/dist-packages (from catboost) (3.2.2)\n",
            "Requirement already satisfied: plotly in /usr/local/lib/python3.8/dist-packages (from catboost) (5.5.0)\n",
            "Requirement already satisfied: graphviz in /usr/local/lib/python3.8/dist-packages (from catboost) (0.10.1)\n",
            "Requirement already satisfied: pandas>=0.24.0 in /usr/local/lib/python3.8/dist-packages (from catboost) (1.3.5)\n",
            "Requirement already satisfied: six in /usr/local/lib/python3.8/dist-packages (from catboost) (1.15.0)\n",
            "Requirement already satisfied: numpy>=1.16.0 in /usr/local/lib/python3.8/dist-packages (from catboost) (1.21.6)\n",
            "Requirement already satisfied: python-dateutil>=2.7.3 in /usr/local/lib/python3.8/dist-packages (from pandas>=0.24.0->catboost) (2.8.2)\n",
            "Requirement already satisfied: pytz>=2017.3 in /usr/local/lib/python3.8/dist-packages (from pandas>=0.24.0->catboost) (2022.6)\n",
            "Requirement already satisfied: cycler>=0.10 in /usr/local/lib/python3.8/dist-packages (from matplotlib->catboost) (0.11.0)\n",
            "Requirement already satisfied: kiwisolver>=1.0.1 in /usr/local/lib/python3.8/dist-packages (from matplotlib->catboost) (1.4.4)\n",
            "Requirement already satisfied: pyparsing!=2.0.4,!=2.1.2,!=2.1.6,>=2.0.1 in /usr/local/lib/python3.8/dist-packages (from matplotlib->catboost) (3.0.9)\n",
            "Requirement already satisfied: tenacity>=6.2.0 in /usr/local/lib/python3.8/dist-packages (from plotly->catboost) (8.1.0)\n",
            "Installing collected packages: catboost\n",
            "Successfully installed catboost-1.1.1\n",
            "Looking in indexes: https://pypi.org/simple, https://us-python.pkg.dev/colab-wheels/public/simple/\n",
            "Collecting river\n",
            "  Downloading river-0.14.0-cp38-cp38-manylinux_2_17_x86_64.manylinux2014_x86_64.whl (3.2 MB)\n",
            "\u001b[K     |████████████████████████████████| 3.2 MB 4.7 MB/s \n",
            "\u001b[?25hRequirement already satisfied: scipy>=1.5 in /usr/local/lib/python3.8/dist-packages (from river) (1.7.3)\n",
            "Requirement already satisfied: pandas>=1.3 in /usr/local/lib/python3.8/dist-packages (from river) (1.3.5)\n",
            "Collecting numpy>=1.23.4\n",
            "  Downloading numpy-1.24.1-cp38-cp38-manylinux_2_17_x86_64.manylinux2014_x86_64.whl (17.3 MB)\n",
            "\u001b[K     |████████████████████████████████| 17.3 MB 50.7 MB/s \n",
            "\u001b[?25hRequirement already satisfied: pytz>=2017.3 in /usr/local/lib/python3.8/dist-packages (from pandas>=1.3->river) (2022.6)\n",
            "Requirement already satisfied: python-dateutil>=2.7.3 in /usr/local/lib/python3.8/dist-packages (from pandas>=1.3->river) (2.8.2)\n",
            "Requirement already satisfied: six>=1.5 in /usr/local/lib/python3.8/dist-packages (from python-dateutil>=2.7.3->pandas>=1.3->river) (1.15.0)\n",
            "Collecting scipy>=1.5\n",
            "  Downloading scipy-1.9.3-cp38-cp38-manylinux_2_17_x86_64.manylinux2014_x86_64.whl (33.8 MB)\n",
            "\u001b[K     |████████████████████████████████| 33.8 MB 89.7 MB/s \n",
            "\u001b[?25hInstalling collected packages: numpy, scipy, river\n",
            "  Attempting uninstall: numpy\n",
            "    Found existing installation: numpy 1.21.6\n",
            "    Uninstalling numpy-1.21.6:\n",
            "      Successfully uninstalled numpy-1.21.6\n",
            "  Attempting uninstall: scipy\n",
            "    Found existing installation: scipy 1.7.3\n",
            "    Uninstalling scipy-1.7.3:\n",
            "      Successfully uninstalled scipy-1.7.3\n",
            "\u001b[31mERROR: pip's dependency resolver does not currently take into account all the packages that are installed. This behaviour is the source of the following dependency conflicts.\n",
            "numba 0.56.4 requires numpy<1.24,>=1.18, but you have numpy 1.24.1 which is incompatible.\u001b[0m\n",
            "Successfully installed numpy-1.24.1 river-0.14.0 scipy-1.9.3\n"
          ]
        },
        {
          "output_type": "display_data",
          "data": {
            "application/vnd.colab-display-data+json": {
              "pip_warning": {
                "packages": [
                  "numpy"
                ]
              }
            }
          },
          "metadata": {}
        }
      ]
    },
    {
      "cell_type": "code",
      "source": [
        "from google.colab import drive\n",
        "drive.mount('/content/drive')"
      ],
      "metadata": {
        "colab": {
          "base_uri": "https://localhost:8080/"
        },
        "id": "4XJWkXGYSSOW",
        "outputId": "d2489ad8-9892-4249-b341-d6ec3bf739e5"
      },
      "execution_count": null,
      "outputs": [
        {
          "output_type": "stream",
          "name": "stdout",
          "text": [
            "Mounted at /content/drive\n"
          ]
        }
      ]
    },
    {
      "cell_type": "markdown",
      "source": [
        "# DATA SET TO BE USED: CICIDS2017 dataset"
      ],
      "metadata": {
        "id": "f6t7bC_qSXLd"
      }
    },
    {
      "cell_type": "code",
      "source": [
        "df = pd.read_csv(\"/content/drive/MyDrive/ISM/Intrusion-Detection-System-Using-Machine-Learning-main/data/CICIDS2017_sample_km.csv\")"
      ],
      "metadata": {
        "id": "Ez6SJBCASdKh"
      },
      "execution_count": null,
      "outputs": []
    },
    {
      "cell_type": "code",
      "source": [
        "df.Label.value_counts()"
      ],
      "metadata": {
        "colab": {
          "base_uri": "https://localhost:8080/"
        },
        "id": "4sYNVAn4TAnd",
        "outputId": "f5dfe68a-87de-4a36-83ec-1cf0338966d4"
      },
      "execution_count": null,
      "outputs": [
        {
          "output_type": "execute_result",
          "data": {
            "text/plain": [
              "0    18225\n",
              "3     3042\n",
              "6     2180\n",
              "1     1966\n",
              "5     1255\n",
              "2       96\n",
              "4       36\n",
              "Name: Label, dtype: int64"
            ]
          },
          "metadata": {},
          "execution_count": 5
        }
      ]
    },
    {
      "cell_type": "code",
      "source": [
        "df.head()"
      ],
      "metadata": {
        "colab": {
          "base_uri": "https://localhost:8080/",
          "height": 433
        },
        "id": "8vVYpnyHTC9D",
        "outputId": "51ce7291-e7ae-4172-8c7e-dfac6db90f8c"
      },
      "execution_count": null,
      "outputs": [
        {
          "output_type": "execute_result",
          "data": {
            "text/plain": [
              "   Flow Duration  Total Fwd Packets  Total Backward Packets  \\\n",
              "0   5.416666e-07                0.0                0.000003   \n",
              "1   5.416666e-07                0.0                0.000003   \n",
              "2   4.416666e-07                0.0                0.000003   \n",
              "3   7.499999e-07                0.0                0.000003   \n",
              "4   7.249999e-07                0.0                0.000003   \n",
              "\n",
              "   Total Length of Fwd Packets  Total Length of Bwd Packets  \\\n",
              "0                 4.651163e-07                 9.153974e-09   \n",
              "1                 4.651163e-07                 9.153974e-09   \n",
              "2                 4.651163e-07                 9.153974e-09   \n",
              "3                 4.651163e-07                 9.153974e-09   \n",
              "4                 4.651163e-07                 9.153974e-09   \n",
              "\n",
              "   Fwd Packet Length Max  Fwd Packet Length Min  Fwd Packet Length Mean  \\\n",
              "0               0.000242               0.002581                 0.00101   \n",
              "1               0.000242               0.002581                 0.00101   \n",
              "2               0.000242               0.002581                 0.00101   \n",
              "3               0.000242               0.002581                 0.00101   \n",
              "4               0.000242               0.002581                 0.00101   \n",
              "\n",
              "   Fwd Packet Length Std  Bwd Packet Length Max  ...  min_seg_size_forward  \\\n",
              "0                    0.0               0.000307  ...                   1.0   \n",
              "1                    0.0               0.000307  ...                   1.0   \n",
              "2                    0.0               0.000307  ...                   1.0   \n",
              "3                    0.0               0.000307  ...                   1.0   \n",
              "4                    0.0               0.000307  ...                   1.0   \n",
              "\n",
              "   Active Mean  Active Std  Active Max  Active Min  Idle Mean  Idle Std  \\\n",
              "0          0.0         0.0         0.0         0.0        0.0       0.0   \n",
              "1          0.0         0.0         0.0         0.0        0.0       0.0   \n",
              "2          0.0         0.0         0.0         0.0        0.0       0.0   \n",
              "3          0.0         0.0         0.0         0.0        0.0       0.0   \n",
              "4          0.0         0.0         0.0         0.0        0.0       0.0   \n",
              "\n",
              "   Idle Max  Idle Min  Label  \n",
              "0       0.0       0.0      0  \n",
              "1       0.0       0.0      0  \n",
              "2       0.0       0.0      0  \n",
              "3       0.0       0.0      0  \n",
              "4       0.0       0.0      0  \n",
              "\n",
              "[5 rows x 78 columns]"
            ],
            "text/html": [
              "\n",
              "  <div id=\"df-2a37aa67-67fe-4d05-91ae-a481eb856543\">\n",
              "    <div class=\"colab-df-container\">\n",
              "      <div>\n",
              "<style scoped>\n",
              "    .dataframe tbody tr th:only-of-type {\n",
              "        vertical-align: middle;\n",
              "    }\n",
              "\n",
              "    .dataframe tbody tr th {\n",
              "        vertical-align: top;\n",
              "    }\n",
              "\n",
              "    .dataframe thead th {\n",
              "        text-align: right;\n",
              "    }\n",
              "</style>\n",
              "<table border=\"1\" class=\"dataframe\">\n",
              "  <thead>\n",
              "    <tr style=\"text-align: right;\">\n",
              "      <th></th>\n",
              "      <th>Flow Duration</th>\n",
              "      <th>Total Fwd Packets</th>\n",
              "      <th>Total Backward Packets</th>\n",
              "      <th>Total Length of Fwd Packets</th>\n",
              "      <th>Total Length of Bwd Packets</th>\n",
              "      <th>Fwd Packet Length Max</th>\n",
              "      <th>Fwd Packet Length Min</th>\n",
              "      <th>Fwd Packet Length Mean</th>\n",
              "      <th>Fwd Packet Length Std</th>\n",
              "      <th>Bwd Packet Length Max</th>\n",
              "      <th>...</th>\n",
              "      <th>min_seg_size_forward</th>\n",
              "      <th>Active Mean</th>\n",
              "      <th>Active Std</th>\n",
              "      <th>Active Max</th>\n",
              "      <th>Active Min</th>\n",
              "      <th>Idle Mean</th>\n",
              "      <th>Idle Std</th>\n",
              "      <th>Idle Max</th>\n",
              "      <th>Idle Min</th>\n",
              "      <th>Label</th>\n",
              "    </tr>\n",
              "  </thead>\n",
              "  <tbody>\n",
              "    <tr>\n",
              "      <th>0</th>\n",
              "      <td>5.416666e-07</td>\n",
              "      <td>0.0</td>\n",
              "      <td>0.000003</td>\n",
              "      <td>4.651163e-07</td>\n",
              "      <td>9.153974e-09</td>\n",
              "      <td>0.000242</td>\n",
              "      <td>0.002581</td>\n",
              "      <td>0.00101</td>\n",
              "      <td>0.0</td>\n",
              "      <td>0.000307</td>\n",
              "      <td>...</td>\n",
              "      <td>1.0</td>\n",
              "      <td>0.0</td>\n",
              "      <td>0.0</td>\n",
              "      <td>0.0</td>\n",
              "      <td>0.0</td>\n",
              "      <td>0.0</td>\n",
              "      <td>0.0</td>\n",
              "      <td>0.0</td>\n",
              "      <td>0.0</td>\n",
              "      <td>0</td>\n",
              "    </tr>\n",
              "    <tr>\n",
              "      <th>1</th>\n",
              "      <td>5.416666e-07</td>\n",
              "      <td>0.0</td>\n",
              "      <td>0.000003</td>\n",
              "      <td>4.651163e-07</td>\n",
              "      <td>9.153974e-09</td>\n",
              "      <td>0.000242</td>\n",
              "      <td>0.002581</td>\n",
              "      <td>0.00101</td>\n",
              "      <td>0.0</td>\n",
              "      <td>0.000307</td>\n",
              "      <td>...</td>\n",
              "      <td>1.0</td>\n",
              "      <td>0.0</td>\n",
              "      <td>0.0</td>\n",
              "      <td>0.0</td>\n",
              "      <td>0.0</td>\n",
              "      <td>0.0</td>\n",
              "      <td>0.0</td>\n",
              "      <td>0.0</td>\n",
              "      <td>0.0</td>\n",
              "      <td>0</td>\n",
              "    </tr>\n",
              "    <tr>\n",
              "      <th>2</th>\n",
              "      <td>4.416666e-07</td>\n",
              "      <td>0.0</td>\n",
              "      <td>0.000003</td>\n",
              "      <td>4.651163e-07</td>\n",
              "      <td>9.153974e-09</td>\n",
              "      <td>0.000242</td>\n",
              "      <td>0.002581</td>\n",
              "      <td>0.00101</td>\n",
              "      <td>0.0</td>\n",
              "      <td>0.000307</td>\n",
              "      <td>...</td>\n",
              "      <td>1.0</td>\n",
              "      <td>0.0</td>\n",
              "      <td>0.0</td>\n",
              "      <td>0.0</td>\n",
              "      <td>0.0</td>\n",
              "      <td>0.0</td>\n",
              "      <td>0.0</td>\n",
              "      <td>0.0</td>\n",
              "      <td>0.0</td>\n",
              "      <td>0</td>\n",
              "    </tr>\n",
              "    <tr>\n",
              "      <th>3</th>\n",
              "      <td>7.499999e-07</td>\n",
              "      <td>0.0</td>\n",
              "      <td>0.000003</td>\n",
              "      <td>4.651163e-07</td>\n",
              "      <td>9.153974e-09</td>\n",
              "      <td>0.000242</td>\n",
              "      <td>0.002581</td>\n",
              "      <td>0.00101</td>\n",
              "      <td>0.0</td>\n",
              "      <td>0.000307</td>\n",
              "      <td>...</td>\n",
              "      <td>1.0</td>\n",
              "      <td>0.0</td>\n",
              "      <td>0.0</td>\n",
              "      <td>0.0</td>\n",
              "      <td>0.0</td>\n",
              "      <td>0.0</td>\n",
              "      <td>0.0</td>\n",
              "      <td>0.0</td>\n",
              "      <td>0.0</td>\n",
              "      <td>0</td>\n",
              "    </tr>\n",
              "    <tr>\n",
              "      <th>4</th>\n",
              "      <td>7.249999e-07</td>\n",
              "      <td>0.0</td>\n",
              "      <td>0.000003</td>\n",
              "      <td>4.651163e-07</td>\n",
              "      <td>9.153974e-09</td>\n",
              "      <td>0.000242</td>\n",
              "      <td>0.002581</td>\n",
              "      <td>0.00101</td>\n",
              "      <td>0.0</td>\n",
              "      <td>0.000307</td>\n",
              "      <td>...</td>\n",
              "      <td>1.0</td>\n",
              "      <td>0.0</td>\n",
              "      <td>0.0</td>\n",
              "      <td>0.0</td>\n",
              "      <td>0.0</td>\n",
              "      <td>0.0</td>\n",
              "      <td>0.0</td>\n",
              "      <td>0.0</td>\n",
              "      <td>0.0</td>\n",
              "      <td>0</td>\n",
              "    </tr>\n",
              "  </tbody>\n",
              "</table>\n",
              "<p>5 rows × 78 columns</p>\n",
              "</div>\n",
              "      <button class=\"colab-df-convert\" onclick=\"convertToInteractive('df-2a37aa67-67fe-4d05-91ae-a481eb856543')\"\n",
              "              title=\"Convert this dataframe to an interactive table.\"\n",
              "              style=\"display:none;\">\n",
              "        \n",
              "  <svg xmlns=\"http://www.w3.org/2000/svg\" height=\"24px\"viewBox=\"0 0 24 24\"\n",
              "       width=\"24px\">\n",
              "    <path d=\"M0 0h24v24H0V0z\" fill=\"none\"/>\n",
              "    <path d=\"M18.56 5.44l.94 2.06.94-2.06 2.06-.94-2.06-.94-.94-2.06-.94 2.06-2.06.94zm-11 1L8.5 8.5l.94-2.06 2.06-.94-2.06-.94L8.5 2.5l-.94 2.06-2.06.94zm10 10l.94 2.06.94-2.06 2.06-.94-2.06-.94-.94-2.06-.94 2.06-2.06.94z\"/><path d=\"M17.41 7.96l-1.37-1.37c-.4-.4-.92-.59-1.43-.59-.52 0-1.04.2-1.43.59L10.3 9.45l-7.72 7.72c-.78.78-.78 2.05 0 2.83L4 21.41c.39.39.9.59 1.41.59.51 0 1.02-.2 1.41-.59l7.78-7.78 2.81-2.81c.8-.78.8-2.07 0-2.86zM5.41 20L4 18.59l7.72-7.72 1.47 1.35L5.41 20z\"/>\n",
              "  </svg>\n",
              "      </button>\n",
              "      \n",
              "  <style>\n",
              "    .colab-df-container {\n",
              "      display:flex;\n",
              "      flex-wrap:wrap;\n",
              "      gap: 12px;\n",
              "    }\n",
              "\n",
              "    .colab-df-convert {\n",
              "      background-color: #E8F0FE;\n",
              "      border: none;\n",
              "      border-radius: 50%;\n",
              "      cursor: pointer;\n",
              "      display: none;\n",
              "      fill: #1967D2;\n",
              "      height: 32px;\n",
              "      padding: 0 0 0 0;\n",
              "      width: 32px;\n",
              "    }\n",
              "\n",
              "    .colab-df-convert:hover {\n",
              "      background-color: #E2EBFA;\n",
              "      box-shadow: 0px 1px 2px rgba(60, 64, 67, 0.3), 0px 1px 3px 1px rgba(60, 64, 67, 0.15);\n",
              "      fill: #174EA6;\n",
              "    }\n",
              "\n",
              "    [theme=dark] .colab-df-convert {\n",
              "      background-color: #3B4455;\n",
              "      fill: #D2E3FC;\n",
              "    }\n",
              "\n",
              "    [theme=dark] .colab-df-convert:hover {\n",
              "      background-color: #434B5C;\n",
              "      box-shadow: 0px 1px 3px 1px rgba(0, 0, 0, 0.15);\n",
              "      filter: drop-shadow(0px 1px 2px rgba(0, 0, 0, 0.3));\n",
              "      fill: #FFFFFF;\n",
              "    }\n",
              "  </style>\n",
              "\n",
              "      <script>\n",
              "        const buttonEl =\n",
              "          document.querySelector('#df-2a37aa67-67fe-4d05-91ae-a481eb856543 button.colab-df-convert');\n",
              "        buttonEl.style.display =\n",
              "          google.colab.kernel.accessAllowed ? 'block' : 'none';\n",
              "\n",
              "        async function convertToInteractive(key) {\n",
              "          const element = document.querySelector('#df-2a37aa67-67fe-4d05-91ae-a481eb856543');\n",
              "          const dataTable =\n",
              "            await google.colab.kernel.invokeFunction('convertToInteractive',\n",
              "                                                     [key], {});\n",
              "          if (!dataTable) return;\n",
              "\n",
              "          const docLinkHtml = 'Like what you see? Visit the ' +\n",
              "            '<a target=\"_blank\" href=https://colab.research.google.com/notebooks/data_table.ipynb>data table notebook</a>'\n",
              "            + ' to learn more about interactive tables.';\n",
              "          element.innerHTML = '';\n",
              "          dataTable['output_type'] = 'display_data';\n",
              "          await google.colab.output.renderOutput(dataTable, element);\n",
              "          const docLink = document.createElement('div');\n",
              "          docLink.innerHTML = docLinkHtml;\n",
              "          element.appendChild(docLink);\n",
              "        }\n",
              "      </script>\n",
              "    </div>\n",
              "  </div>\n",
              "  "
            ]
          },
          "metadata": {},
          "execution_count": 6
        }
      ]
    },
    {
      "cell_type": "markdown",
      "source": [
        "# Corresponding Attack Types:\n",
        "\n",
        "1.   0    BENIGN   18225\n",
        "2.   1    Bot     1966\n",
        "3.   2    BruteForce   96\n",
        "4.   3    DoS     3042\n",
        "5.   4    Infiltration   36\n",
        "6.   5    PortScan   1255\n",
        "7.   6    WebAttack   2180 \n",
        "\n",
        "\n",
        "\n",
        "\n",
        "\n",
        "\n",
        "\n",
        "\n",
        "\n"
      ],
      "metadata": {
        "id": "8ZfAiQ0VTVUt"
      }
    },
    {
      "cell_type": "markdown",
      "source": [
        "\n",
        "\n",
        "# Spliting train set and test set for training purpose.\n",
        "train_size = 0.8, test_size = 0.2\n",
        "\n"
      ],
      "metadata": {
        "id": "r0YZWrWtUR2r"
      }
    },
    {
      "cell_type": "code",
      "source": [
        "X = df.drop(['Label'],axis=1)\n",
        "y = df['Label']\n",
        "X_train, X_test, y_train, y_test = train_test_split(X,y, train_size = 0.8, test_size = 0.2, random_state = 0) #shuffle=False"
      ],
      "metadata": {
        "id": "-rIu-sBTTalY"
      },
      "execution_count": null,
      "outputs": []
    },
    {
      "cell_type": "markdown",
      "source": [
        "# SMOTE to solve class-imbalance"
      ],
      "metadata": {
        "id": "-zcYIsFxUxMk"
      }
    },
    {
      "cell_type": "code",
      "source": [
        "pd.Series(y_train).value_counts()"
      ],
      "metadata": {
        "colab": {
          "base_uri": "https://localhost:8080/"
        },
        "id": "GGXfQAIgU2Up",
        "outputId": "6b88c234-0021-4fa9-8003-e40093e67f99"
      },
      "execution_count": null,
      "outputs": [
        {
          "output_type": "execute_result",
          "data": {
            "text/plain": [
              "0    14569\n",
              "3     2430\n",
              "6     1728\n",
              "1     1579\n",
              "5     1024\n",
              "2       82\n",
              "4       28\n",
              "Name: Label, dtype: int64"
            ]
          },
          "metadata": {},
          "execution_count": 8
        }
      ]
    },
    {
      "cell_type": "code",
      "source": [
        "from imblearn.over_sampling import SMOTE\n",
        "smote=SMOTE(n_jobs=-1,sampling_strategy={2:1000,4:1000})"
      ],
      "metadata": {
        "id": "BS1dwTWqU60h"
      },
      "execution_count": null,
      "outputs": []
    },
    {
      "cell_type": "code",
      "source": [
        "X_train, y_train = smote.fit_resample(X_train, y_train)"
      ],
      "metadata": {
        "id": "6ICK3zBWU8fB"
      },
      "execution_count": null,
      "outputs": []
    },
    {
      "cell_type": "code",
      "source": [
        "pd.Series(y_train).value_counts()"
      ],
      "metadata": {
        "colab": {
          "base_uri": "https://localhost:8080/"
        },
        "id": "Qtb2CGvQU8oo",
        "outputId": "34ce7180-d57a-4c3b-d68d-c3e30d0a4166"
      },
      "execution_count": null,
      "outputs": [
        {
          "output_type": "execute_result",
          "data": {
            "text/plain": [
              "0    14569\n",
              "3     2430\n",
              "6     1728\n",
              "1     1579\n",
              "5     1024\n",
              "2     1000\n",
              "4     1000\n",
              "Name: Label, dtype: int64"
            ]
          },
          "metadata": {},
          "execution_count": 11
        }
      ]
    },
    {
      "cell_type": "markdown",
      "source": [
        "# Machine Learning (ML) model training\n",
        "Training three base learners: LightGBM, XGBoost, CatBoost"
      ],
      "metadata": {
        "id": "7u4NFTw7VBDI"
      }
    },
    {
      "cell_type": "code",
      "source": [
        "%%time\n",
        "# Train the LightGBM algorithm\n",
        "import lightgbm as lgb\n",
        "lg = lgb.LGBMClassifier()\n",
        "lg.fit(X_train, y_train)\n",
        "y_pred = lg.predict(X_test)\n",
        "print(classification_report(y_test,y_pred))\n",
        "print(\"Accuracy of LightGBM: \"+ str(accuracy_score(y_test, y_pred)))\n",
        "print(\"Precision of LightGBM: \"+ str(precision_score(y_test, y_pred, average='weighted')))\n",
        "print(\"Recall of LightGBM: \"+ str(recall_score(y_test, y_pred, average='weighted')))\n",
        "print(\"Average F1 of LightGBM: \"+ str(f1_score(y_test, y_pred, average='weighted')))\n",
        "print(\"F1 of LightGBM for each type of attack: \"+ str(f1_score(y_test, y_pred, average=None)))\n",
        "lg_f1=f1_score(y_test, y_pred, average=None)\n",
        "\n",
        "# Plot the confusion matrix\n",
        "cm=confusion_matrix(y_test,y_pred)\n",
        "f,ax=plt.subplots(figsize=(5,5))\n",
        "sns.heatmap(cm,annot=True,linewidth=0.5,linecolor=\"red\",fmt=\".0f\",ax=ax)\n",
        "plt.xlabel(\"y_pred\")\n",
        "plt.ylabel(\"y_true\")\n",
        "plt.show()"
      ],
      "metadata": {
        "colab": {
          "base_uri": "https://localhost:8080/",
          "height": 709
        },
        "id": "ySzo7vj8VIdv",
        "outputId": "55843249-fe31-4ee5-bc56-8e1aa1d84836"
      },
      "execution_count": null,
      "outputs": [
        {
          "output_type": "stream",
          "name": "stdout",
          "text": [
            "              precision    recall  f1-score   support\n",
            "\n",
            "           0       1.00      1.00      1.00      3656\n",
            "           1       1.00      0.99      0.99       387\n",
            "           2       1.00      1.00      1.00        14\n",
            "           3       1.00      1.00      1.00       612\n",
            "           4       1.00      0.75      0.86         8\n",
            "           5       0.99      1.00      0.99       231\n",
            "           6       1.00      0.99      1.00       452\n",
            "\n",
            "    accuracy                           1.00      5360\n",
            "   macro avg       1.00      0.96      0.98      5360\n",
            "weighted avg       1.00      1.00      1.00      5360\n",
            "\n",
            "Accuracy of LightGBM: 0.9973880597014926\n",
            "Precision of LightGBM: 0.9973967119612819\n",
            "Recall of LightGBM: 0.9973880597014926\n",
            "Average F1 of LightGBM: 0.9973612766651317\n",
            "F1 of LightGBM for each type of attack: [0.99836021 0.99481865 1.         0.99754702 0.85714286 0.99354839\n",
            " 0.99555556]\n"
          ]
        },
        {
          "output_type": "display_data",
          "data": {
            "text/plain": [
              "<Figure size 360x360 with 2 Axes>"
            ],
            "image/png": "[encoded data removed]"
          },
          "metadata": {
            "needs_background": "light"
          }
        },
        {
          "output_type": "stream",
          "name": "stdout",
          "text": [
            "CPU times: user 18.8 s, sys: 184 ms, total: 19 s\n",
            "Wall time: 10 s\n"
          ]
        }
      ]
    },
    {
      "cell_type": "code",
      "source": [
        "%%time\n",
        "# Train the XGBoost algorithm\n",
        "import xgboost as xgb\n",
        "xg = xgb.XGBClassifier()\n",
        "\n",
        "X_train_x = X_train.values\n",
        "X_test_x = X_test.values\n",
        "\n",
        "xg.fit(X_train_x, y_train)\n",
        "\n",
        "y_pred = xg.predict(X_test_x)\n",
        "print(classification_report(y_test,y_pred))\n",
        "print(\"Accuracy of XGBoost: \"+ str(accuracy_score(y_test, y_pred)))\n",
        "print(\"Precision of XGBoost: \"+ str(precision_score(y_test, y_pred, average='weighted')))\n",
        "print(\"Recall of XGBoost: \"+ str(recall_score(y_test, y_pred, average='weighted')))\n",
        "print(\"Average F1 of XGBoost: \"+ str(f1_score(y_test, y_pred, average='weighted')))\n",
        "print(\"F1 of XGBoost for each type of attack: \"+ str(f1_score(y_test, y_pred, average=None)))\n",
        "xg_f1=f1_score(y_test, y_pred, average=None)\n",
        "\n",
        "# Plot the confusion matrix\n",
        "cm=confusion_matrix(y_test,y_pred)\n",
        "f,ax=plt.subplots(figsize=(5,5))\n",
        "sns.heatmap(cm,annot=True,linewidth=0.5,linecolor=\"red\",fmt=\".0f\",ax=ax)\n",
        "plt.xlabel(\"y_pred\")\n",
        "plt.ylabel(\"y_true\")\n",
        "plt.show()"
      ],
      "metadata": {
        "colab": {
          "base_uri": "https://localhost:8080/",
          "height": 709
        },
        "id": "8ZXKwRA-VP97",
        "outputId": "fb54eecc-a209-4d4b-96b7-2a3365b76333"
      },
      "execution_count": null,
      "outputs": [
        {
          "output_type": "stream",
          "name": "stdout",
          "text": [
            "              precision    recall  f1-score   support\n",
            "\n",
            "           0       0.97      0.99      0.98      3656\n",
            "           1       0.99      0.96      0.97       387\n",
            "           2       0.87      0.93      0.90        14\n",
            "           3       0.96      0.98      0.97       612\n",
            "           4       1.00      0.50      0.67         8\n",
            "           5       0.99      0.99      0.99       231\n",
            "           6       0.99      0.87      0.92       452\n",
            "\n",
            "    accuracy                           0.98      5360\n",
            "   macro avg       0.97      0.89      0.91      5360\n",
            "weighted avg       0.98      0.98      0.98      5360\n",
            "\n",
            "Accuracy of XGBoost: 0.9755597014925373\n",
            "Precision of XGBoost: 0.9758482606600912\n",
            "Recall of XGBoost: 0.9755597014925373\n",
            "Average F1 of XGBoost: 0.9751364180942107\n",
            "F1 of XGBoost for each type of attack: [0.98264171 0.97375328 0.89655172 0.96920583 0.66666667 0.98920086\n",
            " 0.92434988]\n"
          ]
        },
        {
          "output_type": "display_data",
          "data": {
            "text/plain": [
              "<Figure size 360x360 with 2 Axes>"
            ],
            "image/png": "[encoded data removed]"
          },
          "metadata": {
            "needs_background": "light"
          }
        },
        {
          "output_type": "stream",
          "name": "stdout",
          "text": [
            "CPU times: user 38.7 s, sys: 175 ms, total: 38.9 s\n",
            "Wall time: 39 s\n"
          ]
        }
      ]
    },
    {
      "cell_type": "code",
      "source": [
        "%%time\n",
        "# Train the CatBoost algorithm\n",
        "import catboost as cbt\n",
        "cb = cbt.CatBoostClassifier(verbose=0,boosting_type='Plain')\n",
        "#cb = cbt.CatBoostClassifier()\n",
        "\n",
        "cb.fit(X_train, y_train)\n",
        "y_pred = cb.predict(X_test)\n",
        "print(classification_report(y_test,y_pred))\n",
        "print(\"Accuracy of CatBoost: \"+ str(accuracy_score(y_test, y_pred)))\n",
        "print(\"Precision of CatBoost: \"+ str(precision_score(y_test, y_pred, average='weighted')))\n",
        "print(\"Recall of CatBoost: \"+ str(recall_score(y_test, y_pred, average='weighted')))\n",
        "print(\"Average F1 of CatBoost: \"+ str(f1_score(y_test, y_pred, average='weighted')))\n",
        "print(\"F1 of CatBoost for each type of attack: \"+ str(f1_score(y_test, y_pred, average=None)))\n",
        "cb_f1=f1_score(y_test, y_pred, average=None)\n",
        "\n",
        "# Plot the confusion matrix\n",
        "cm=confusion_matrix(y_test,y_pred)\n",
        "f,ax=plt.subplots(figsize=(5,5))\n",
        "sns.heatmap(cm,annot=True,linewidth=0.5,linecolor=\"red\",fmt=\".0f\",ax=ax)\n",
        "plt.xlabel(\"y_pred\")\n",
        "plt.ylabel(\"y_true\")\n",
        "plt.show()"
      ],
      "metadata": {
        "colab": {
          "base_uri": "https://localhost:8080/",
          "height": 709
        },
        "id": "bAloxKiBVStZ",
        "outputId": "a9204a74-84d1-4569-cf09-86375312b743"
      },
      "execution_count": null,
      "outputs": [
        {
          "output_type": "stream",
          "name": "stdout",
          "text": [
            "              precision    recall  f1-score   support\n",
            "\n",
            "           0       1.00      1.00      1.00      3656\n",
            "           1       0.99      0.99      0.99       387\n",
            "           2       1.00      1.00      1.00        14\n",
            "           3       1.00      1.00      1.00       612\n",
            "           4       1.00      0.75      0.86         8\n",
            "           5       0.99      1.00      0.99       231\n",
            "           6       1.00      0.99      0.99       452\n",
            "\n",
            "    accuracy                           1.00      5360\n",
            "   macro avg       1.00      0.96      0.98      5360\n",
            "weighted avg       1.00      1.00      1.00      5360\n",
            "\n",
            "Accuracy of CatBoost: 0.9966417910447761\n",
            "Precision of CatBoost: 0.9966457193764396\n",
            "Recall of CatBoost: 0.9966417910447761\n",
            "Average F1 of CatBoost: 0.99661603515491\n",
            "F1 of CatBoost for each type of attack: [0.99781241 0.99353169 1.         0.99673203 0.85714286 0.99137931\n",
            " 0.9944629 ]\n"
          ]
        },
        {
          "output_type": "display_data",
          "data": {
            "text/plain": [
              "<Figure size 360x360 with 2 Axes>"
            ],
            "image/png": "[encoded data removed]"
          },
          "metadata": {
            "needs_background": "light"
          }
        },
        {
          "output_type": "stream",
          "name": "stdout",
          "text": [
            "CPU times: user 3min 50s, sys: 1.59 s, total: 3min 51s\n",
            "Wall time: 2min 3s\n"
          ]
        }
      ]
    },
    {
      "cell_type": "code",
      "source": [
        "%%time\n",
        "from sklearn.ensemble import RandomForestClassifier,ExtraTreesClassifier\n",
        "from sklearn.metrics import classification_report,confusion_matrix,accuracy_score,precision_recall_fscore_support\n",
        "from sklearn.metrics import f1_score,roc_auc_score\n",
        "rf = RandomForestClassifier(random_state = 0)\n",
        "rf.fit(X_train,y_train) \n",
        "rf_score=rf.score(X_test,y_test)\n",
        "y_predict=rf.predict(X_test)\n",
        "y_true=y_test\n",
        "print('Accuracy of RF: '+ str(rf_score))\n",
        "precision,recall,fscore,none= precision_recall_fscore_support(y_true, y_predict, average='weighted') \n",
        "print('Precision of RF: '+(str(precision)))\n",
        "print('Recall of RF: '+(str(recall)))\n",
        "print('F1-score of RF: '+(str(fscore)))\n",
        "print(classification_report(y_true,y_predict))\n",
        "cm=confusion_matrix(y_true,y_predict)\n",
        "f,ax=plt.subplots(figsize=(5,5))\n",
        "sns.heatmap(cm,annot=True,linewidth=0.5,linecolor=\"red\",fmt=\".0f\",ax=ax)\n",
        "plt.xlabel(\"y_pred\")\n",
        "plt.ylabel(\"y_true\")\n",
        "plt.show()"
      ],
      "metadata": {
        "colab": {
          "base_uri": "https://localhost:8080/",
          "height": 692
        },
        "id": "4acLPFyKdpfF",
        "outputId": "72c9258e-f5c8-41cb-8967-60c253704979"
      },
      "execution_count": 23,
      "outputs": [
        {
          "output_type": "stream",
          "name": "stdout",
          "text": [
            "Accuracy of RF: 0.9899253731343284\n",
            "Precision of RF: 0.9899339378801721\n",
            "Recall of RF: 0.9899253731343284\n",
            "F1-score of RF: 0.9898210890672914\n",
            "              precision    recall  f1-score   support\n",
            "\n",
            "           0       0.99      1.00      0.99      3656\n",
            "           1       0.99      0.98      0.99       387\n",
            "           2       1.00      1.00      1.00        14\n",
            "           3       0.99      0.99      0.99       612\n",
            "           4       1.00      0.62      0.77         8\n",
            "           5       0.99      1.00      0.99       231\n",
            "           6       0.99      0.95      0.97       452\n",
            "\n",
            "    accuracy                           0.99      5360\n",
            "   macro avg       0.99      0.94      0.96      5360\n",
            "weighted avg       0.99      0.99      0.99      5360\n",
            "\n"
          ]
        },
        {
          "output_type": "display_data",
          "data": {
            "text/plain": [
              "<Figure size 360x360 with 2 Axes>"
            ],
            "image/png": "[encoded data removed]"
          },
          "metadata": {
            "needs_background": "light"
          }
        },
        {
          "output_type": "stream",
          "name": "stdout",
          "text": [
            "CPU times: user 4.59 s, sys: 139 ms, total: 4.72 s\n",
            "Wall time: 4.61 s\n",
            "Compiler : 125 ms\n"
          ]
        }
      ]
    },
    {
      "cell_type": "code",
      "source": [
        "%%time\n",
        "from sklearn.tree import DecisionTreeClassifier\n",
        "dt = DecisionTreeClassifier(random_state = 0)\n",
        "dt.fit(X_train,y_train) \n",
        "dt_score=dt.score(X_test,y_test)\n",
        "y_predict=dt.predict(X_test)\n",
        "y_true=y_test\n",
        "print('Accuracy of DT: '+ str(dt_score))\n",
        "precision,recall,fscore,none= precision_recall_fscore_support(y_true, y_predict, average='weighted') \n",
        "print('Precision of DT: '+(str(precision)))\n",
        "print('Recall of DT: '+(str(recall)))\n",
        "print('F1-score of DT: '+(str(fscore)))\n",
        "print(classification_report(y_true,y_predict))\n",
        "cm=confusion_matrix(y_true,y_predict)\n",
        "f,ax=plt.subplots(figsize=(5,5))\n",
        "sns.heatmap(cm,annot=True,linewidth=0.5,linecolor=\"red\",fmt=\".0f\",ax=ax)\n",
        "plt.xlabel(\"y_pred\")\n",
        "plt.ylabel(\"y_true\")\n",
        "plt.show()"
      ],
      "metadata": {
        "colab": {
          "base_uri": "https://localhost:8080/",
          "height": 675
        },
        "id": "TgrrU0_6d08x",
        "outputId": "77f33d22-cebd-4291-fc6a-74f2f3205caf"
      },
      "execution_count": 22,
      "outputs": [
        {
          "output_type": "stream",
          "name": "stdout",
          "text": [
            "Accuracy of DT: 0.9929104477611941\n",
            "Precision of DT: 0.9928743455303658\n",
            "Recall of DT: 0.9929104477611941\n",
            "F1-score of DT: 0.9928630672159569\n",
            "              precision    recall  f1-score   support\n",
            "\n",
            "           0       1.00      0.99      1.00      3656\n",
            "           1       0.99      0.99      0.99       387\n",
            "           2       0.93      0.93      0.93        14\n",
            "           3       0.99      1.00      0.99       612\n",
            "           4       0.83      0.62      0.71         8\n",
            "           5       0.99      1.00      0.99       231\n",
            "           6       0.98      0.99      0.98       452\n",
            "\n",
            "    accuracy                           0.99      5360\n",
            "   macro avg       0.96      0.93      0.94      5360\n",
            "weighted avg       0.99      0.99      0.99      5360\n",
            "\n"
          ]
        },
        {
          "output_type": "display_data",
          "data": {
            "text/plain": [
              "<Figure size 360x360 with 2 Axes>"
            ],
            "image/png": "[encoded data removed]"
          },
          "metadata": {
            "needs_background": "light"
          }
        },
        {
          "output_type": "stream",
          "name": "stdout",
          "text": [
            "CPU times: user 1.33 s, sys: 68 ms, total: 1.4 s\n",
            "Wall time: 1.44 s\n"
          ]
        }
      ]
    },
    {
      "cell_type": "code",
      "source": [
        "%%time\n",
        "et = ExtraTreesClassifier(random_state = 0)\n",
        "et.fit(X_train,y_train) \n",
        "et_score=et.score(X_test,y_test)\n",
        "y_predict=et.predict(X_test)\n",
        "y_true=y_test\n",
        "print('Accuracy of ET: '+ str(et_score))\n",
        "precision,recall,fscore,none= precision_recall_fscore_support(y_true, y_predict, average='weighted') \n",
        "print('Precision of ET: '+(str(precision)))\n",
        "print('Recall of ET: '+(str(recall)))\n",
        "print('F1-score of ET: '+(str(fscore)))\n",
        "print(classification_report(y_true,y_predict))\n",
        "cm=confusion_matrix(y_true,y_predict)\n",
        "f,ax=plt.subplots(figsize=(5,5))\n",
        "sns.heatmap(cm,annot=True,linewidth=0.5,linecolor=\"red\",fmt=\".0f\",ax=ax)\n",
        "plt.xlabel(\"y_pred\")\n",
        "plt.ylabel(\"y_true\")\n",
        "plt.show()"
      ],
      "metadata": {
        "colab": {
          "base_uri": "https://localhost:8080/",
          "height": 675
        },
        "id": "YW5dHcpZez2b",
        "outputId": "95a48c8c-ec14-44a5-e767-6aab6457a676"
      },
      "execution_count": 26,
      "outputs": [
        {
          "output_type": "stream",
          "name": "stdout",
          "text": [
            "Accuracy of ET: 0.9873134328358208\n",
            "Precision of ET: 0.9873029820354025\n",
            "Recall of ET: 0.9873134328358208\n",
            "F1-score of ET: 0.9872357717235625\n",
            "              precision    recall  f1-score   support\n",
            "\n",
            "           0       0.99      0.99      0.99      3656\n",
            "           1       0.96      0.97      0.97       387\n",
            "           2       0.81      0.93      0.87        14\n",
            "           3       0.98      0.99      0.99       612\n",
            "           4       0.80      0.50      0.62         8\n",
            "           5       0.99      1.00      0.99       231\n",
            "           6       0.98      0.97      0.98       452\n",
            "\n",
            "    accuracy                           0.99      5360\n",
            "   macro avg       0.93      0.91      0.91      5360\n",
            "weighted avg       0.99      0.99      0.99      5360\n",
            "\n"
          ]
        },
        {
          "output_type": "display_data",
          "data": {
            "text/plain": [
              "<Figure size 360x360 with 2 Axes>"
            ],
            "image/png": "[encoded data removed]"
          },
          "metadata": {
            "needs_background": "light"
          }
        },
        {
          "output_type": "stream",
          "name": "stdout",
          "text": [
            "CPU times: user 3.68 s, sys: 135 ms, total: 3.81 s\n",
            "Wall time: 3.81 s\n"
          ]
        }
      ]
    }
  ]
}